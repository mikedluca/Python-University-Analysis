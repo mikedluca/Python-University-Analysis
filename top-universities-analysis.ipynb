{
 "cells": [
  {
   "cell_type": "code",
   "execution_count": 1,
   "id": "c6ec4475",
   "metadata": {
    "_cell_guid": "b1076dfc-b9ad-4769-8c92-a6c4dae69d19",
    "_uuid": "8f2839f25d086af736a60e9eeb907d3b93b6e0e5",
    "execution": {
     "iopub.execute_input": "2023-06-07T01:59:35.632080Z",
     "iopub.status.busy": "2023-06-07T01:59:35.631679Z",
     "iopub.status.idle": "2023-06-07T01:59:35.683335Z",
     "shell.execute_reply": "2023-06-07T01:59:35.682101Z"
    },
    "papermill": {
     "duration": 0.065031,
     "end_time": "2023-06-07T01:59:35.686179",
     "exception": false,
     "start_time": "2023-06-07T01:59:35.621148",
     "status": "completed"
    },
    "tags": []
   },
   "outputs": [
    {
     "name": "stdout",
     "output_type": "stream",
     "text": [
      "/kaggle/input/chicago-house-price/realest.csv\n",
      "/kaggle/input/ultimate-university-ranking/GreenMetric/GreenMetric_2020-.csv\n",
      "/kaggle/input/ultimate-university-ranking/GreenMetric/GreenMetric_2021-.csv\n",
      "/kaggle/input/ultimate-university-ranking/GreenMetric/GreenMetric_2016-.csv\n",
      "/kaggle/input/ultimate-university-ranking/GreenMetric/GreenMetric_2017-.csv\n",
      "/kaggle/input/ultimate-university-ranking/GreenMetric/GreenMetric_2022-.csv\n",
      "/kaggle/input/ultimate-university-ranking/GreenMetric/GreenMetric_2019-.csv\n",
      "/kaggle/input/ultimate-university-ranking/GreenMetric/GreenMetric_2018-.csv\n",
      "/kaggle/input/ultimate-university-ranking/NatureIndex/NatureIndex_2019.csv\n",
      "/kaggle/input/ultimate-university-ranking/NatureIndex/NatureIndex_2015.csv\n",
      "/kaggle/input/ultimate-university-ranking/NatureIndex/NatureIndex_2022.csv\n",
      "/kaggle/input/ultimate-university-ranking/NatureIndex/NatureIndex_2020.csv\n",
      "/kaggle/input/ultimate-university-ranking/NatureIndex/NatureIndex_2018.csv\n",
      "/kaggle/input/ultimate-university-ranking/NatureIndex/NatureIndex_2021.csv\n",
      "/kaggle/input/ultimate-university-ranking/NatureIndex/NatureIndex_2017.csv\n",
      "/kaggle/input/ultimate-university-ranking/NatureIndex/NatureIndex_2016.csv\n",
      "/kaggle/input/ultimate-university-ranking/Times/Times_2013.csv\n",
      "/kaggle/input/ultimate-university-ranking/Times/Times_2015.csv\n",
      "/kaggle/input/ultimate-university-ranking/Times/Times_2020.csv\n",
      "/kaggle/input/ultimate-university-ranking/Times/Times_2014.csv\n",
      "/kaggle/input/ultimate-university-ranking/Times/Times_2022.csv\n",
      "/kaggle/input/ultimate-university-ranking/Times/Times_2017.csv\n",
      "/kaggle/input/ultimate-university-ranking/Times/Times_2016.csv\n",
      "/kaggle/input/ultimate-university-ranking/Times/Times_2023.csv\n",
      "/kaggle/input/ultimate-university-ranking/Times/Times_2018.csv\n",
      "/kaggle/input/ultimate-university-ranking/Times/Times_2012.csv\n",
      "/kaggle/input/ultimate-university-ranking/Times/Times_2011.csv\n",
      "/kaggle/input/ultimate-university-ranking/Times/Times_2021.csv\n",
      "/kaggle/input/ultimate-university-ranking/Times/Times_2019.csv\n",
      "/kaggle/input/ultimate-university-ranking/QS/QS_2022.csv\n",
      "/kaggle/input/ultimate-university-ranking/QS/QS_2023.csv\n",
      "/kaggle/input/ultimate-university-ranking/Webometrics/Webometric_2013.csv\n",
      "/kaggle/input/ultimate-university-ranking/Webometrics/Webometric_2012.csv\n",
      "/kaggle/input/ultimate-university-ranking/Webometrics/Webometric_2020.csv\n",
      "/kaggle/input/ultimate-university-ranking/Webometrics/Webometric_2019.csv\n",
      "/kaggle/input/ultimate-university-ranking/Webometrics/Webometric_2022.csv\n",
      "/kaggle/input/ultimate-university-ranking/Webometrics/Webometric_2017.csv\n",
      "/kaggle/input/ultimate-university-ranking/Webometrics/Webometric_2021.csv\n",
      "/kaggle/input/ultimate-university-ranking/Webometrics/Webometric_2016.csv\n",
      "/kaggle/input/ultimate-university-ranking/Webometrics/Webometric_2023.csv\n",
      "/kaggle/input/ultimate-university-ranking/Webometrics/Webometric_2014.csv\n",
      "/kaggle/input/ultimate-university-ranking/Webometrics/Webometric_2015.csv\n",
      "/kaggle/input/ultimate-university-ranking/Webometrics/Webometric_2018.csv\n",
      "/kaggle/input/ultimate-university-ranking/CWUR/CWUR_2015-2016.csv\n",
      "/kaggle/input/ultimate-university-ranking/CWUR/CWUR_2014-2015.csv\n",
      "/kaggle/input/ultimate-university-ranking/CWUR/CWUR_2012-2013.csv\n",
      "/kaggle/input/ultimate-university-ranking/CWUR/CWUR_2022-2023.csv\n",
      "/kaggle/input/ultimate-university-ranking/CWUR/CWUR_2016-2017.csv\n",
      "/kaggle/input/ultimate-university-ranking/CWUR/CWUR_2019-2020.csv\n",
      "/kaggle/input/ultimate-university-ranking/CWUR/CWUR_2013-2014.csv\n",
      "/kaggle/input/ultimate-university-ranking/CWUR/CWUR_2021-2022.csv\n",
      "/kaggle/input/ultimate-university-ranking/CWUR/CWUR_2020-2021.csv\n",
      "/kaggle/input/ultimate-university-ranking/CWUR/CWUR_2018-2019.csv\n",
      "/kaggle/input/ultimate-university-ranking/CWUR/CWUR_2017-2018.csv\n",
      "/kaggle/input/ultimate-university-ranking/Leiden/Leiden_2022.csv\n",
      "/kaggle/input/ultimate-university-ranking/Leiden/Leiden_2018.csv\n",
      "/kaggle/input/ultimate-university-ranking/Leiden/Leiden_2021.csv\n",
      "/kaggle/input/ultimate-university-ranking/Leiden/Leiden_2019.csv\n",
      "/kaggle/input/ultimate-university-ranking/Leiden/Leiden_2020.csv\n",
      "/kaggle/input/ultimate-university-ranking/URAP/URAP_2021-2022.csv\n",
      "/kaggle/input/ultimate-university-ranking/URAP/URAP_2022-2023.csv\n",
      "/kaggle/input/ultimate-university-ranking/URAP/URAP_2019-2020.csv\n",
      "/kaggle/input/ultimate-university-ranking/URAP/URAP_2020-2021.csv\n",
      "/kaggle/input/ultimate-university-ranking/URAP/URAP_2018-2019.csv\n"
     ]
    }
   ],
   "source": [
    "# This Python 3 environment comes with many helpful analytics libraries installed\n",
    "# It is defined by the kaggle/python Docker image: https://github.com/kaggle/docker-python\n",
    "# For example, here's several helpful packages to load\n",
    "\n",
    "import numpy as np # linear algebra\n",
    "import pandas as pd # data processing, CSV file I/O (e.g. pd.read_csv)\n",
    "\n",
    "# Input data files are available in the read-only \"../input/\" directory\n",
    "# For example, running this (by clicking run or pressing Shift+Enter) will list all files under the input directory\n",
    "\n",
    "import os\n",
    "for dirname, _, filenames in os.walk('/kaggle/input'):\n",
    "    for filename in filenames:\n",
    "        print(os.path.join(dirname, filename))\n",
    "\n",
    "# You can write up to 20GB to the current directory (/kaggle/working/) that gets preserved as output when you create a version using \"Save & Run All\" \n",
    "# You can also write temporary files to /kaggle/temp/, but they won't be saved outside of the current session"
   ]
  },
  {
   "cell_type": "code",
   "execution_count": 2,
   "id": "3fd66aeb",
   "metadata": {
    "execution": {
     "iopub.execute_input": "2023-06-07T01:59:35.704538Z",
     "iopub.status.busy": "2023-06-07T01:59:35.704128Z",
     "iopub.status.idle": "2023-06-07T01:59:37.269889Z",
     "shell.execute_reply": "2023-06-07T01:59:37.268473Z"
    },
    "papermill": {
     "duration": 1.577927,
     "end_time": "2023-06-07T01:59:37.272566",
     "exception": false,
     "start_time": "2023-06-07T01:59:35.694639",
     "status": "completed"
    },
    "tags": []
   },
   "outputs": [],
   "source": [
    "import pandas as pd\n",
    "import numpy as np\n",
    "import matplotlib.pylab as plt\n",
    "import seaborn as sns\n",
    "plt.style.use('ggplot')\n",
    "#pd.set_option('max_columns', 200)"
   ]
  },
  {
   "cell_type": "code",
   "execution_count": 3,
   "id": "93794c84",
   "metadata": {
    "execution": {
     "iopub.execute_input": "2023-06-07T01:59:37.290532Z",
     "iopub.status.busy": "2023-06-07T01:59:37.290089Z",
     "iopub.status.idle": "2023-06-07T01:59:37.370936Z",
     "shell.execute_reply": "2023-06-07T01:59:37.369627Z"
    },
    "papermill": {
     "duration": 0.09287,
     "end_time": "2023-06-07T01:59:37.373693",
     "exception": false,
     "start_time": "2023-06-07T01:59:37.280823",
     "status": "completed"
    },
    "tags": []
   },
   "outputs": [],
   "source": [
    "df = pd.read_csv('../input/ultimate-university-ranking/Times/Times_2023.csv')"
   ]
  },
  {
   "cell_type": "code",
   "execution_count": 4,
   "id": "d7eb06e3",
   "metadata": {
    "execution": {
     "iopub.execute_input": "2023-06-07T01:59:37.392083Z",
     "iopub.status.busy": "2023-06-07T01:59:37.391669Z",
     "iopub.status.idle": "2023-06-07T01:59:37.399818Z",
     "shell.execute_reply": "2023-06-07T01:59:37.398714Z"
    },
    "papermill": {
     "duration": 0.020084,
     "end_time": "2023-06-07T01:59:37.402210",
     "exception": false,
     "start_time": "2023-06-07T01:59:37.382126",
     "status": "completed"
    },
    "tags": []
   },
   "outputs": [
    {
     "data": {
      "text/plain": [
       "(2345, 29)"
      ]
     },
     "execution_count": 4,
     "metadata": {},
     "output_type": "execute_result"
    }
   ],
   "source": [
    "df.shape"
   ]
  },
  {
   "cell_type": "code",
   "execution_count": 5,
   "id": "3be0fbdb",
   "metadata": {
    "execution": {
     "iopub.execute_input": "2023-06-07T01:59:37.422305Z",
     "iopub.status.busy": "2023-06-07T01:59:37.421900Z",
     "iopub.status.idle": "2023-06-07T01:59:37.442260Z",
     "shell.execute_reply": "2023-06-07T01:59:37.441111Z"
    },
    "papermill": {
     "duration": 0.034469,
     "end_time": "2023-06-07T01:59:37.445034",
     "exception": false,
     "start_time": "2023-06-07T01:59:37.410565",
     "status": "completed"
    },
    "tags": []
   },
   "outputs": [],
   "source": [
    "df = df[['rank_order', 'rank', 'name', 'scores_overall', 'scores_overall_rank',\n",
    "       'scores_teaching', 'scores_teaching_rank', 'scores_research',\n",
    "       'scores_research_rank', 'scores_citations', 'scores_citations_rank',\n",
    "       'scores_industry_income', 'scores_industry_income_rank',\n",
    "       'scores_international_outlook', 'scores_international_outlook_rank',\n",
    "       'record_type', \n",
    "    #'member_level', 'url', 'nid', \n",
    "        'location',\n",
    "       'stats_number_students', 'stats_student_staff_ratio',\n",
    "       'stats_pc_intl_students', 'stats_female_male_ratio', \n",
    "       #'aliases',\n",
    "      # 'subjects_offered', 'closed', 'unaccredited', 'disabled'\n",
    "   ]].copy()"
   ]
  },
  {
   "cell_type": "code",
   "execution_count": 6,
   "id": "b39ab6b5",
   "metadata": {
    "execution": {
     "iopub.execute_input": "2023-06-07T01:59:37.463920Z",
     "iopub.status.busy": "2023-06-07T01:59:37.463138Z",
     "iopub.status.idle": "2023-06-07T01:59:37.514605Z",
     "shell.execute_reply": "2023-06-07T01:59:37.513387Z"
    },
    "papermill": {
     "duration": 0.063622,
     "end_time": "2023-06-07T01:59:37.517216",
     "exception": false,
     "start_time": "2023-06-07T01:59:37.453594",
     "status": "completed"
    },
    "tags": []
   },
   "outputs": [
    {
     "data": {
      "text/html": [
       "<div>\n",
       "<style scoped>\n",
       "    .dataframe tbody tr th:only-of-type {\n",
       "        vertical-align: middle;\n",
       "    }\n",
       "\n",
       "    .dataframe tbody tr th {\n",
       "        vertical-align: top;\n",
       "    }\n",
       "\n",
       "    .dataframe thead th {\n",
       "        text-align: right;\n",
       "    }\n",
       "</style>\n",
       "<table border=\"1\" class=\"dataframe\">\n",
       "  <thead>\n",
       "    <tr style=\"text-align: right;\">\n",
       "      <th></th>\n",
       "      <th>rank_order</th>\n",
       "      <th>rank</th>\n",
       "      <th>name</th>\n",
       "      <th>scores_overall</th>\n",
       "      <th>scores_overall_rank</th>\n",
       "      <th>scores_teaching</th>\n",
       "      <th>scores_teaching_rank</th>\n",
       "      <th>scores_research</th>\n",
       "      <th>scores_research_rank</th>\n",
       "      <th>scores_citations</th>\n",
       "      <th>...</th>\n",
       "      <th>scores_industry_income</th>\n",
       "      <th>scores_industry_income_rank</th>\n",
       "      <th>scores_international_outlook</th>\n",
       "      <th>scores_international_outlook_rank</th>\n",
       "      <th>record_type</th>\n",
       "      <th>location</th>\n",
       "      <th>stats_number_students</th>\n",
       "      <th>stats_student_staff_ratio</th>\n",
       "      <th>stats_pc_intl_students</th>\n",
       "      <th>stats_female_male_ratio</th>\n",
       "    </tr>\n",
       "  </thead>\n",
       "  <tbody>\n",
       "    <tr>\n",
       "      <th>0</th>\n",
       "      <td>10</td>\n",
       "      <td>1</td>\n",
       "      <td>University of Oxford</td>\n",
       "      <td>96.4</td>\n",
       "      <td>10</td>\n",
       "      <td>92.3</td>\n",
       "      <td>5</td>\n",
       "      <td>99.7</td>\n",
       "      <td>1</td>\n",
       "      <td>99.0</td>\n",
       "      <td>...</td>\n",
       "      <td>74.9</td>\n",
       "      <td>158</td>\n",
       "      <td>96.2</td>\n",
       "      <td>28</td>\n",
       "      <td>master_account</td>\n",
       "      <td>United Kingdom</td>\n",
       "      <td>20,965</td>\n",
       "      <td>10.6</td>\n",
       "      <td>42%</td>\n",
       "      <td>48 : 52</td>\n",
       "    </tr>\n",
       "    <tr>\n",
       "      <th>1</th>\n",
       "      <td>20</td>\n",
       "      <td>2</td>\n",
       "      <td>Harvard University</td>\n",
       "      <td>95.2</td>\n",
       "      <td>20</td>\n",
       "      <td>94.8</td>\n",
       "      <td>1</td>\n",
       "      <td>99.0</td>\n",
       "      <td>3</td>\n",
       "      <td>99.3</td>\n",
       "      <td>...</td>\n",
       "      <td>49.5</td>\n",
       "      <td>418</td>\n",
       "      <td>80.5</td>\n",
       "      <td>214</td>\n",
       "      <td>private</td>\n",
       "      <td>United States</td>\n",
       "      <td>21,887</td>\n",
       "      <td>9.6</td>\n",
       "      <td>25%</td>\n",
       "      <td>50 : 50</td>\n",
       "    </tr>\n",
       "    <tr>\n",
       "      <th>2</th>\n",
       "      <td>30</td>\n",
       "      <td>=3</td>\n",
       "      <td>University of Cambridge</td>\n",
       "      <td>94.8</td>\n",
       "      <td>30</td>\n",
       "      <td>90.9</td>\n",
       "      <td>7</td>\n",
       "      <td>99.5</td>\n",
       "      <td>2</td>\n",
       "      <td>97.0</td>\n",
       "      <td>...</td>\n",
       "      <td>54.2</td>\n",
       "      <td>335</td>\n",
       "      <td>95.8</td>\n",
       "      <td>34</td>\n",
       "      <td>master_account</td>\n",
       "      <td>United Kingdom</td>\n",
       "      <td>20,185</td>\n",
       "      <td>11.3</td>\n",
       "      <td>39%</td>\n",
       "      <td>47 : 53</td>\n",
       "    </tr>\n",
       "    <tr>\n",
       "      <th>3</th>\n",
       "      <td>40</td>\n",
       "      <td>=3</td>\n",
       "      <td>Stanford University</td>\n",
       "      <td>94.8</td>\n",
       "      <td>40</td>\n",
       "      <td>94.2</td>\n",
       "      <td>2</td>\n",
       "      <td>96.7</td>\n",
       "      <td>7</td>\n",
       "      <td>99.8</td>\n",
       "      <td>...</td>\n",
       "      <td>65.0</td>\n",
       "      <td>232</td>\n",
       "      <td>79.8</td>\n",
       "      <td>223</td>\n",
       "      <td>private</td>\n",
       "      <td>United States</td>\n",
       "      <td>16,164</td>\n",
       "      <td>7.1</td>\n",
       "      <td>24%</td>\n",
       "      <td>46 : 54</td>\n",
       "    </tr>\n",
       "    <tr>\n",
       "      <th>4</th>\n",
       "      <td>50</td>\n",
       "      <td>5</td>\n",
       "      <td>Massachusetts Institute of Technology</td>\n",
       "      <td>94.2</td>\n",
       "      <td>50</td>\n",
       "      <td>90.7</td>\n",
       "      <td>8</td>\n",
       "      <td>93.6</td>\n",
       "      <td>11</td>\n",
       "      <td>99.8</td>\n",
       "      <td>...</td>\n",
       "      <td>90.9</td>\n",
       "      <td>62</td>\n",
       "      <td>89.3</td>\n",
       "      <td>119</td>\n",
       "      <td>private</td>\n",
       "      <td>United States</td>\n",
       "      <td>11,415</td>\n",
       "      <td>8.2</td>\n",
       "      <td>33%</td>\n",
       "      <td>40 : 60</td>\n",
       "    </tr>\n",
       "    <tr>\n",
       "      <th>...</th>\n",
       "      <td>...</td>\n",
       "      <td>...</td>\n",
       "      <td>...</td>\n",
       "      <td>...</td>\n",
       "      <td>...</td>\n",
       "      <td>...</td>\n",
       "      <td>...</td>\n",
       "      <td>...</td>\n",
       "      <td>...</td>\n",
       "      <td>...</td>\n",
       "      <td>...</td>\n",
       "      <td>...</td>\n",
       "      <td>...</td>\n",
       "      <td>...</td>\n",
       "      <td>...</td>\n",
       "      <td>...</td>\n",
       "      <td>...</td>\n",
       "      <td>...</td>\n",
       "      <td>...</td>\n",
       "      <td>...</td>\n",
       "      <td>...</td>\n",
       "    </tr>\n",
       "    <tr>\n",
       "      <th>95</th>\n",
       "      <td>960</td>\n",
       "      <td>=95</td>\n",
       "      <td>Institut Polytechnique de Paris</td>\n",
       "      <td>63.6</td>\n",
       "      <td>960</td>\n",
       "      <td>58.5</td>\n",
       "      <td>68</td>\n",
       "      <td>58.8</td>\n",
       "      <td>85</td>\n",
       "      <td>64.8</td>\n",
       "      <td>...</td>\n",
       "      <td>72.7</td>\n",
       "      <td>173</td>\n",
       "      <td>95.6</td>\n",
       "      <td>38</td>\n",
       "      <td>master_account</td>\n",
       "      <td>France</td>\n",
       "      <td>5,999</td>\n",
       "      <td>6.7</td>\n",
       "      <td>41%</td>\n",
       "      <td>24 : 76</td>\n",
       "    </tr>\n",
       "    <tr>\n",
       "      <th>96</th>\n",
       "      <td>970</td>\n",
       "      <td>=95</td>\n",
       "      <td>Nanjing University</td>\n",
       "      <td>63.6</td>\n",
       "      <td>970</td>\n",
       "      <td>58.4</td>\n",
       "      <td>69</td>\n",
       "      <td>58.2</td>\n",
       "      <td>91</td>\n",
       "      <td>74.3</td>\n",
       "      <td>...</td>\n",
       "      <td>87.3</td>\n",
       "      <td>84</td>\n",
       "      <td>55.2</td>\n",
       "      <td>568</td>\n",
       "      <td>master_account</td>\n",
       "      <td>China</td>\n",
       "      <td>36,426</td>\n",
       "      <td>16.5</td>\n",
       "      <td>8%</td>\n",
       "      <td>54 : 46</td>\n",
       "    </tr>\n",
       "    <tr>\n",
       "      <th>97</th>\n",
       "      <td>980</td>\n",
       "      <td>98</td>\n",
       "      <td>Vanderbilt University</td>\n",
       "      <td>63.5</td>\n",
       "      <td>980</td>\n",
       "      <td>49.5</td>\n",
       "      <td>113</td>\n",
       "      <td>47.5</td>\n",
       "      <td>153</td>\n",
       "      <td>96.5</td>\n",
       "      <td>...</td>\n",
       "      <td>66.7</td>\n",
       "      <td>216</td>\n",
       "      <td>50.6</td>\n",
       "      <td>657</td>\n",
       "      <td>private</td>\n",
       "      <td>United States</td>\n",
       "      <td>12,696</td>\n",
       "      <td>3.8</td>\n",
       "      <td>15%</td>\n",
       "      <td>55 : 45</td>\n",
       "    </tr>\n",
       "    <tr>\n",
       "      <th>98</th>\n",
       "      <td>990</td>\n",
       "      <td>=99</td>\n",
       "      <td>City University of Hong Kong</td>\n",
       "      <td>63.4</td>\n",
       "      <td>990</td>\n",
       "      <td>47.2</td>\n",
       "      <td>130</td>\n",
       "      <td>53.0</td>\n",
       "      <td>120</td>\n",
       "      <td>79.9</td>\n",
       "      <td>...</td>\n",
       "      <td>76.6</td>\n",
       "      <td>147</td>\n",
       "      <td>99.6</td>\n",
       "      <td>2</td>\n",
       "      <td>master_account</td>\n",
       "      <td>Hong Kong</td>\n",
       "      <td>9,099</td>\n",
       "      <td>12.1</td>\n",
       "      <td>62%</td>\n",
       "      <td>54 : 46</td>\n",
       "    </tr>\n",
       "    <tr>\n",
       "      <th>99</th>\n",
       "      <td>1000</td>\n",
       "      <td>=99</td>\n",
       "      <td>RWTH Aachen University</td>\n",
       "      <td>63.4</td>\n",
       "      <td>1000</td>\n",
       "      <td>56.8</td>\n",
       "      <td>73</td>\n",
       "      <td>64.5</td>\n",
       "      <td>64</td>\n",
       "      <td>66.1</td>\n",
       "      <td>...</td>\n",
       "      <td>93.8</td>\n",
       "      <td>46</td>\n",
       "      <td>65.1</td>\n",
       "      <td>404</td>\n",
       "      <td>master_account</td>\n",
       "      <td>Germany</td>\n",
       "      <td>39,738</td>\n",
       "      <td>50.0</td>\n",
       "      <td>28%</td>\n",
       "      <td>33 : 67</td>\n",
       "    </tr>\n",
       "  </tbody>\n",
       "</table>\n",
       "<p>100 rows × 21 columns</p>\n",
       "</div>"
      ],
      "text/plain": [
       "    rank_order rank                                   name scores_overall  \\\n",
       "0           10    1                   University of Oxford           96.4   \n",
       "1           20    2                     Harvard University           95.2   \n",
       "2           30   =3                University of Cambridge           94.8   \n",
       "3           40   =3                    Stanford University           94.8   \n",
       "4           50    5  Massachusetts Institute of Technology           94.2   \n",
       "..         ...  ...                                    ...            ...   \n",
       "95         960  =95        Institut Polytechnique de Paris           63.6   \n",
       "96         970  =95                     Nanjing University           63.6   \n",
       "97         980   98                  Vanderbilt University           63.5   \n",
       "98         990  =99           City University of Hong Kong           63.4   \n",
       "99        1000  =99                 RWTH Aachen University           63.4   \n",
       "\n",
       "    scores_overall_rank  scores_teaching  scores_teaching_rank  \\\n",
       "0                    10             92.3                     5   \n",
       "1                    20             94.8                     1   \n",
       "2                    30             90.9                     7   \n",
       "3                    40             94.2                     2   \n",
       "4                    50             90.7                     8   \n",
       "..                  ...              ...                   ...   \n",
       "95                  960             58.5                    68   \n",
       "96                  970             58.4                    69   \n",
       "97                  980             49.5                   113   \n",
       "98                  990             47.2                   130   \n",
       "99                 1000             56.8                    73   \n",
       "\n",
       "    scores_research  scores_research_rank  scores_citations  ...  \\\n",
       "0              99.7                     1              99.0  ...   \n",
       "1              99.0                     3              99.3  ...   \n",
       "2              99.5                     2              97.0  ...   \n",
       "3              96.7                     7              99.8  ...   \n",
       "4              93.6                    11              99.8  ...   \n",
       "..              ...                   ...               ...  ...   \n",
       "95             58.8                    85              64.8  ...   \n",
       "96             58.2                    91              74.3  ...   \n",
       "97             47.5                   153              96.5  ...   \n",
       "98             53.0                   120              79.9  ...   \n",
       "99             64.5                    64              66.1  ...   \n",
       "\n",
       "    scores_industry_income  scores_industry_income_rank  \\\n",
       "0                     74.9                          158   \n",
       "1                     49.5                          418   \n",
       "2                     54.2                          335   \n",
       "3                     65.0                          232   \n",
       "4                     90.9                           62   \n",
       "..                     ...                          ...   \n",
       "95                    72.7                          173   \n",
       "96                    87.3                           84   \n",
       "97                    66.7                          216   \n",
       "98                    76.6                          147   \n",
       "99                    93.8                           46   \n",
       "\n",
       "    scores_international_outlook  scores_international_outlook_rank  \\\n",
       "0                           96.2                                 28   \n",
       "1                           80.5                                214   \n",
       "2                           95.8                                 34   \n",
       "3                           79.8                                223   \n",
       "4                           89.3                                119   \n",
       "..                           ...                                ...   \n",
       "95                          95.6                                 38   \n",
       "96                          55.2                                568   \n",
       "97                          50.6                                657   \n",
       "98                          99.6                                  2   \n",
       "99                          65.1                                404   \n",
       "\n",
       "       record_type        location stats_number_students  \\\n",
       "0   master_account  United Kingdom                20,965   \n",
       "1          private   United States                21,887   \n",
       "2   master_account  United Kingdom                20,185   \n",
       "3          private   United States                16,164   \n",
       "4          private   United States                11,415   \n",
       "..             ...             ...                   ...   \n",
       "95  master_account          France                 5,999   \n",
       "96  master_account           China                36,426   \n",
       "97         private   United States                12,696   \n",
       "98  master_account       Hong Kong                 9,099   \n",
       "99  master_account         Germany                39,738   \n",
       "\n",
       "   stats_student_staff_ratio  stats_pc_intl_students stats_female_male_ratio  \n",
       "0                       10.6                     42%                 48 : 52  \n",
       "1                        9.6                     25%                 50 : 50  \n",
       "2                       11.3                     39%                 47 : 53  \n",
       "3                        7.1                     24%                 46 : 54  \n",
       "4                        8.2                     33%                 40 : 60  \n",
       "..                       ...                     ...                     ...  \n",
       "95                       6.7                     41%                 24 : 76  \n",
       "96                      16.5                      8%                 54 : 46  \n",
       "97                       3.8                     15%                 55 : 45  \n",
       "98                      12.1                     62%                 54 : 46  \n",
       "99                      50.0                     28%                 33 : 67  \n",
       "\n",
       "[100 rows x 21 columns]"
      ]
     },
     "execution_count": 6,
     "metadata": {},
     "output_type": "execute_result"
    }
   ],
   "source": [
    "df.head(100)"
   ]
  },
  {
   "cell_type": "code",
   "execution_count": 7,
   "id": "80b36aee",
   "metadata": {
    "execution": {
     "iopub.execute_input": "2023-06-07T01:59:37.537908Z",
     "iopub.status.busy": "2023-06-07T01:59:37.537149Z",
     "iopub.status.idle": "2023-06-07T01:59:37.544014Z",
     "shell.execute_reply": "2023-06-07T01:59:37.543179Z"
    },
    "papermill": {
     "duration": 0.019515,
     "end_time": "2023-06-07T01:59:37.546172",
     "exception": false,
     "start_time": "2023-06-07T01:59:37.526657",
     "status": "completed"
    },
    "tags": []
   },
   "outputs": [],
   "source": [
    "#Renaming Columns\n",
    "df = df.rename(columns={'scores_teaching': 'scores_staff',\n",
    "                    'scores_teaching_rank':'staff_rank',\n",
    "                   'scores_research_rank':'research_rank',\n",
    "                  'scores_citations_rank': 'citations_rank',\n",
    "                  'scores_international_outlook_rank':'international_outlook_rank',\n",
    "                  'stats_number_students': 'student_body_size'})"
   ]
  },
  {
   "cell_type": "code",
   "execution_count": 8,
   "id": "fb6e01f4",
   "metadata": {
    "collapsed": true,
    "execution": {
     "iopub.execute_input": "2023-06-07T01:59:37.566706Z",
     "iopub.status.busy": "2023-06-07T01:59:37.565668Z",
     "iopub.status.idle": "2023-06-07T01:59:37.573775Z",
     "shell.execute_reply": "2023-06-07T01:59:37.572923Z"
    },
    "jupyter": {
     "outputs_hidden": true
    },
    "papermill": {
     "duration": 0.020852,
     "end_time": "2023-06-07T01:59:37.576080",
     "exception": false,
     "start_time": "2023-06-07T01:59:37.555228",
     "status": "completed"
    },
    "tags": []
   },
   "outputs": [],
   "source": [
    "df['student_body_size'] = df['student_body_size'].str.replace(',', '').astype(float)\n",
    "\n"
   ]
  },
  {
   "cell_type": "code",
   "execution_count": 9,
   "id": "45dfb3cc",
   "metadata": {
    "execution": {
     "iopub.execute_input": "2023-06-07T01:59:37.596178Z",
     "iopub.status.busy": "2023-06-07T01:59:37.595546Z",
     "iopub.status.idle": "2023-06-07T01:59:37.601269Z",
     "shell.execute_reply": "2023-06-07T01:59:37.600500Z"
    },
    "papermill": {
     "duration": 0.01847,
     "end_time": "2023-06-07T01:59:37.603640",
     "exception": false,
     "start_time": "2023-06-07T01:59:37.585170",
     "status": "completed"
    },
    "tags": []
   },
   "outputs": [],
   "source": [
    "df['name'] = df['name'].astype(object)"
   ]
  },
  {
   "cell_type": "code",
   "execution_count": 10,
   "id": "c2e561d4",
   "metadata": {
    "execution": {
     "iopub.execute_input": "2023-06-07T01:59:37.624502Z",
     "iopub.status.busy": "2023-06-07T01:59:37.624085Z",
     "iopub.status.idle": "2023-06-07T01:59:37.630079Z",
     "shell.execute_reply": "2023-06-07T01:59:37.628848Z"
    },
    "papermill": {
     "duration": 0.019419,
     "end_time": "2023-06-07T01:59:37.632328",
     "exception": false,
     "start_time": "2023-06-07T01:59:37.612909",
     "status": "completed"
    },
    "tags": []
   },
   "outputs": [],
   "source": [
    "df['rank_order'] = df['rank_order']/10"
   ]
  },
  {
   "cell_type": "code",
   "execution_count": 11,
   "id": "b83dfe28",
   "metadata": {
    "execution": {
     "iopub.execute_input": "2023-06-07T01:59:37.652848Z",
     "iopub.status.busy": "2023-06-07T01:59:37.652167Z",
     "iopub.status.idle": "2023-06-07T01:59:37.659867Z",
     "shell.execute_reply": "2023-06-07T01:59:37.659066Z"
    },
    "papermill": {
     "duration": 0.020615,
     "end_time": "2023-06-07T01:59:37.661963",
     "exception": false,
     "start_time": "2023-06-07T01:59:37.641348",
     "status": "completed"
    },
    "tags": []
   },
   "outputs": [
    {
     "data": {
      "text/plain": [
       "rank_order                      float64\n",
       "rank                             object\n",
       "name                             object\n",
       "scores_overall                   object\n",
       "scores_overall_rank               int64\n",
       "scores_staff                    float64\n",
       "staff_rank                        int64\n",
       "scores_research                 float64\n",
       "research_rank                     int64\n",
       "scores_citations                float64\n",
       "citations_rank                    int64\n",
       "scores_industry_income          float64\n",
       "scores_industry_income_rank       int64\n",
       "scores_international_outlook    float64\n",
       "international_outlook_rank        int64\n",
       "record_type                      object\n",
       "location                         object\n",
       "student_body_size               float64\n",
       "stats_student_staff_ratio       float64\n",
       "stats_pc_intl_students           object\n",
       "stats_female_male_ratio          object\n",
       "dtype: object"
      ]
     },
     "execution_count": 11,
     "metadata": {},
     "output_type": "execute_result"
    }
   ],
   "source": [
    "df.dtypes"
   ]
  },
  {
   "cell_type": "code",
   "execution_count": 12,
   "id": "e8c05413",
   "metadata": {
    "execution": {
     "iopub.execute_input": "2023-06-07T01:59:37.682739Z",
     "iopub.status.busy": "2023-06-07T01:59:37.682346Z",
     "iopub.status.idle": "2023-06-07T01:59:37.741422Z",
     "shell.execute_reply": "2023-06-07T01:59:37.740383Z"
    },
    "papermill": {
     "duration": 0.072343,
     "end_time": "2023-06-07T01:59:37.743951",
     "exception": false,
     "start_time": "2023-06-07T01:59:37.671608",
     "status": "completed"
    },
    "tags": []
   },
   "outputs": [
    {
     "data": {
      "text/html": [
       "<div>\n",
       "<style scoped>\n",
       "    .dataframe tbody tr th:only-of-type {\n",
       "        vertical-align: middle;\n",
       "    }\n",
       "\n",
       "    .dataframe tbody tr th {\n",
       "        vertical-align: top;\n",
       "    }\n",
       "\n",
       "    .dataframe thead th {\n",
       "        text-align: right;\n",
       "    }\n",
       "</style>\n",
       "<table border=\"1\" class=\"dataframe\">\n",
       "  <thead>\n",
       "    <tr style=\"text-align: right;\">\n",
       "      <th></th>\n",
       "      <th>rank_order</th>\n",
       "      <th>scores_overall_rank</th>\n",
       "      <th>scores_staff</th>\n",
       "      <th>staff_rank</th>\n",
       "      <th>scores_research</th>\n",
       "      <th>research_rank</th>\n",
       "      <th>scores_citations</th>\n",
       "      <th>citations_rank</th>\n",
       "      <th>scores_industry_income</th>\n",
       "      <th>scores_industry_income_rank</th>\n",
       "      <th>scores_international_outlook</th>\n",
       "      <th>international_outlook_rank</th>\n",
       "      <th>student_body_size</th>\n",
       "      <th>stats_student_staff_ratio</th>\n",
       "    </tr>\n",
       "  </thead>\n",
       "  <tbody>\n",
       "    <tr>\n",
       "      <th>count</th>\n",
       "      <td>2345.000000</td>\n",
       "      <td>2.345000e+03</td>\n",
       "      <td>1799.000000</td>\n",
       "      <td>2345.000000</td>\n",
       "      <td>1799.000000</td>\n",
       "      <td>2345.000000</td>\n",
       "      <td>1799.000000</td>\n",
       "      <td>2345.000000</td>\n",
       "      <td>1799.000000</td>\n",
       "      <td>2345.000000</td>\n",
       "      <td>1799.000000</td>\n",
       "      <td>2345.000000</td>\n",
       "      <td>2345.000000</td>\n",
       "      <td>2344.000000</td>\n",
       "    </tr>\n",
       "    <tr>\n",
       "      <th>mean</th>\n",
       "      <td>23980.131727</td>\n",
       "      <td>2.398013e+05</td>\n",
       "      <td>27.018010</td>\n",
       "      <td>690.447761</td>\n",
       "      <td>23.016898</td>\n",
       "      <td>690.447761</td>\n",
       "      <td>48.495887</td>\n",
       "      <td>690.447761</td>\n",
       "      <td>47.104558</td>\n",
       "      <td>690.447761</td>\n",
       "      <td>46.880378</td>\n",
       "      <td>690.447761</td>\n",
       "      <td>19220.701066</td>\n",
       "      <td>18.722056</td>\n",
       "    </tr>\n",
       "    <tr>\n",
       "      <th>std</th>\n",
       "      <td>41905.958374</td>\n",
       "      <td>4.190596e+05</td>\n",
       "      <td>13.282243</td>\n",
       "      <td>593.075921</td>\n",
       "      <td>16.763819</td>\n",
       "      <td>593.075921</td>\n",
       "      <td>27.967185</td>\n",
       "      <td>593.075921</td>\n",
       "      <td>15.093682</td>\n",
       "      <td>593.075921</td>\n",
       "      <td>22.582401</td>\n",
       "      <td>593.075921</td>\n",
       "      <td>24575.292996</td>\n",
       "      <td>11.921330</td>\n",
       "    </tr>\n",
       "    <tr>\n",
       "      <th>min</th>\n",
       "      <td>1.000000</td>\n",
       "      <td>1.000000e+01</td>\n",
       "      <td>11.600000</td>\n",
       "      <td>0.000000</td>\n",
       "      <td>7.400000</td>\n",
       "      <td>0.000000</td>\n",
       "      <td>0.800000</td>\n",
       "      <td>0.000000</td>\n",
       "      <td>36.900000</td>\n",
       "      <td>0.000000</td>\n",
       "      <td>14.100000</td>\n",
       "      <td>0.000000</td>\n",
       "      <td>115.000000</td>\n",
       "      <td>0.400000</td>\n",
       "    </tr>\n",
       "    <tr>\n",
       "      <th>25%</th>\n",
       "      <td>587.000000</td>\n",
       "      <td>5.870000e+03</td>\n",
       "      <td>18.000000</td>\n",
       "      <td>41.000000</td>\n",
       "      <td>11.300000</td>\n",
       "      <td>41.000000</td>\n",
       "      <td>23.100000</td>\n",
       "      <td>41.000000</td>\n",
       "      <td>37.800000</td>\n",
       "      <td>41.000000</td>\n",
       "      <td>27.900000</td>\n",
       "      <td>41.000000</td>\n",
       "      <td>6988.000000</td>\n",
       "      <td>12.300000</td>\n",
       "    </tr>\n",
       "    <tr>\n",
       "      <th>50%</th>\n",
       "      <td>1173.000000</td>\n",
       "      <td>1.173000e+04</td>\n",
       "      <td>22.700000</td>\n",
       "      <td>627.000000</td>\n",
       "      <td>17.000000</td>\n",
       "      <td>627.000000</td>\n",
       "      <td>47.200000</td>\n",
       "      <td>627.000000</td>\n",
       "      <td>40.500000</td>\n",
       "      <td>627.000000</td>\n",
       "      <td>42.100000</td>\n",
       "      <td>627.000000</td>\n",
       "      <td>13956.000000</td>\n",
       "      <td>16.300000</td>\n",
       "    </tr>\n",
       "    <tr>\n",
       "      <th>75%</th>\n",
       "      <td>1759.000000</td>\n",
       "      <td>1.759000e+04</td>\n",
       "      <td>31.850000</td>\n",
       "      <td>1213.000000</td>\n",
       "      <td>28.900000</td>\n",
       "      <td>1213.000000</td>\n",
       "      <td>72.350000</td>\n",
       "      <td>1213.000000</td>\n",
       "      <td>48.300000</td>\n",
       "      <td>1213.000000</td>\n",
       "      <td>62.100000</td>\n",
       "      <td>1213.000000</td>\n",
       "      <td>25215.000000</td>\n",
       "      <td>21.900000</td>\n",
       "    </tr>\n",
       "    <tr>\n",
       "      <th>max</th>\n",
       "      <td>100054.400000</td>\n",
       "      <td>1.000544e+06</td>\n",
       "      <td>94.800000</td>\n",
       "      <td>1799.000000</td>\n",
       "      <td>99.700000</td>\n",
       "      <td>1799.000000</td>\n",
       "      <td>100.000000</td>\n",
       "      <td>1799.000000</td>\n",
       "      <td>100.000000</td>\n",
       "      <td>1799.000000</td>\n",
       "      <td>99.700000</td>\n",
       "      <td>1799.000000</td>\n",
       "      <td>460632.000000</td>\n",
       "      <td>232.200000</td>\n",
       "    </tr>\n",
       "  </tbody>\n",
       "</table>\n",
       "</div>"
      ],
      "text/plain": [
       "          rank_order  scores_overall_rank  scores_staff   staff_rank  \\\n",
       "count    2345.000000         2.345000e+03   1799.000000  2345.000000   \n",
       "mean    23980.131727         2.398013e+05     27.018010   690.447761   \n",
       "std     41905.958374         4.190596e+05     13.282243   593.075921   \n",
       "min         1.000000         1.000000e+01     11.600000     0.000000   \n",
       "25%       587.000000         5.870000e+03     18.000000    41.000000   \n",
       "50%      1173.000000         1.173000e+04     22.700000   627.000000   \n",
       "75%      1759.000000         1.759000e+04     31.850000  1213.000000   \n",
       "max    100054.400000         1.000544e+06     94.800000  1799.000000   \n",
       "\n",
       "       scores_research  research_rank  scores_citations  citations_rank  \\\n",
       "count      1799.000000    2345.000000       1799.000000     2345.000000   \n",
       "mean         23.016898     690.447761         48.495887      690.447761   \n",
       "std          16.763819     593.075921         27.967185      593.075921   \n",
       "min           7.400000       0.000000          0.800000        0.000000   \n",
       "25%          11.300000      41.000000         23.100000       41.000000   \n",
       "50%          17.000000     627.000000         47.200000      627.000000   \n",
       "75%          28.900000    1213.000000         72.350000     1213.000000   \n",
       "max          99.700000    1799.000000        100.000000     1799.000000   \n",
       "\n",
       "       scores_industry_income  scores_industry_income_rank  \\\n",
       "count             1799.000000                  2345.000000   \n",
       "mean                47.104558                   690.447761   \n",
       "std                 15.093682                   593.075921   \n",
       "min                 36.900000                     0.000000   \n",
       "25%                 37.800000                    41.000000   \n",
       "50%                 40.500000                   627.000000   \n",
       "75%                 48.300000                  1213.000000   \n",
       "max                100.000000                  1799.000000   \n",
       "\n",
       "       scores_international_outlook  international_outlook_rank  \\\n",
       "count                   1799.000000                 2345.000000   \n",
       "mean                      46.880378                  690.447761   \n",
       "std                       22.582401                  593.075921   \n",
       "min                       14.100000                    0.000000   \n",
       "25%                       27.900000                   41.000000   \n",
       "50%                       42.100000                  627.000000   \n",
       "75%                       62.100000                 1213.000000   \n",
       "max                       99.700000                 1799.000000   \n",
       "\n",
       "       student_body_size  stats_student_staff_ratio  \n",
       "count        2345.000000                2344.000000  \n",
       "mean        19220.701066                  18.722056  \n",
       "std         24575.292996                  11.921330  \n",
       "min           115.000000                   0.400000  \n",
       "25%          6988.000000                  12.300000  \n",
       "50%         13956.000000                  16.300000  \n",
       "75%         25215.000000                  21.900000  \n",
       "max        460632.000000                 232.200000  "
      ]
     },
     "execution_count": 12,
     "metadata": {},
     "output_type": "execute_result"
    }
   ],
   "source": [
    "df.describe()"
   ]
  },
  {
   "cell_type": "code",
   "execution_count": 13,
   "id": "993bfdcf",
   "metadata": {
    "execution": {
     "iopub.execute_input": "2023-06-07T01:59:37.764821Z",
     "iopub.status.busy": "2023-06-07T01:59:37.764416Z",
     "iopub.status.idle": "2023-06-07T01:59:37.778880Z",
     "shell.execute_reply": "2023-06-07T01:59:37.777764Z"
    },
    "papermill": {
     "duration": 0.027681,
     "end_time": "2023-06-07T01:59:37.781272",
     "exception": false,
     "start_time": "2023-06-07T01:59:37.753591",
     "status": "completed"
    },
    "tags": []
   },
   "outputs": [
    {
     "data": {
      "text/plain": [
       "rank_order                        0\n",
       "rank                              0\n",
       "name                              0\n",
       "scores_overall                  546\n",
       "scores_overall_rank               0\n",
       "scores_staff                    546\n",
       "staff_rank                        0\n",
       "scores_research                 546\n",
       "research_rank                     0\n",
       "scores_citations                546\n",
       "citations_rank                    0\n",
       "scores_industry_income          546\n",
       "scores_industry_income_rank       0\n",
       "scores_international_outlook    546\n",
       "international_outlook_rank        0\n",
       "record_type                       0\n",
       "location                          0\n",
       "student_body_size                 0\n",
       "stats_student_staff_ratio         1\n",
       "stats_pc_intl_students            0\n",
       "stats_female_male_ratio          90\n",
       "dtype: int64"
      ]
     },
     "execution_count": 13,
     "metadata": {},
     "output_type": "execute_result"
    }
   ],
   "source": [
    "#Find Null values\n",
    "df.isna().sum()"
   ]
  },
  {
   "cell_type": "code",
   "execution_count": 14,
   "id": "629e2fdc",
   "metadata": {
    "execution": {
     "iopub.execute_input": "2023-06-07T01:59:37.802932Z",
     "iopub.status.busy": "2023-06-07T01:59:37.802557Z",
     "iopub.status.idle": "2023-06-07T01:59:37.822486Z",
     "shell.execute_reply": "2023-06-07T01:59:37.821521Z"
    },
    "papermill": {
     "duration": 0.033396,
     "end_time": "2023-06-07T01:59:37.824716",
     "exception": false,
     "start_time": "2023-06-07T01:59:37.791320",
     "status": "completed"
    },
    "tags": []
   },
   "outputs": [
    {
     "data": {
      "text/html": [
       "<div>\n",
       "<style scoped>\n",
       "    .dataframe tbody tr th:only-of-type {\n",
       "        vertical-align: middle;\n",
       "    }\n",
       "\n",
       "    .dataframe tbody tr th {\n",
       "        vertical-align: top;\n",
       "    }\n",
       "\n",
       "    .dataframe thead th {\n",
       "        text-align: right;\n",
       "    }\n",
       "</style>\n",
       "<table border=\"1\" class=\"dataframe\">\n",
       "  <thead>\n",
       "    <tr style=\"text-align: right;\">\n",
       "      <th></th>\n",
       "      <th>rank_order</th>\n",
       "      <th>rank</th>\n",
       "      <th>name</th>\n",
       "      <th>scores_overall</th>\n",
       "      <th>scores_overall_rank</th>\n",
       "      <th>scores_staff</th>\n",
       "      <th>staff_rank</th>\n",
       "      <th>scores_research</th>\n",
       "      <th>research_rank</th>\n",
       "      <th>scores_citations</th>\n",
       "      <th>...</th>\n",
       "      <th>scores_industry_income</th>\n",
       "      <th>scores_industry_income_rank</th>\n",
       "      <th>scores_international_outlook</th>\n",
       "      <th>international_outlook_rank</th>\n",
       "      <th>record_type</th>\n",
       "      <th>location</th>\n",
       "      <th>student_body_size</th>\n",
       "      <th>stats_student_staff_ratio</th>\n",
       "      <th>stats_pc_intl_students</th>\n",
       "      <th>stats_female_male_ratio</th>\n",
       "    </tr>\n",
       "  </thead>\n",
       "  <tbody>\n",
       "  </tbody>\n",
       "</table>\n",
       "<p>0 rows × 21 columns</p>\n",
       "</div>"
      ],
      "text/plain": [
       "Empty DataFrame\n",
       "Columns: [rank_order, rank, name, scores_overall, scores_overall_rank, scores_staff, staff_rank, scores_research, research_rank, scores_citations, citations_rank, scores_industry_income, scores_industry_income_rank, scores_international_outlook, international_outlook_rank, record_type, location, student_body_size, stats_student_staff_ratio, stats_pc_intl_students, stats_female_male_ratio]\n",
       "Index: []\n",
       "\n",
       "[0 rows x 21 columns]"
      ]
     },
     "execution_count": 14,
     "metadata": {},
     "output_type": "execute_result"
    }
   ],
   "source": [
    "#Looking for duplicate Universities in rankings\n",
    "df.loc[df.duplicated(subset=['name'])]"
   ]
  },
  {
   "cell_type": "code",
   "execution_count": 15,
   "id": "80aa7b9b",
   "metadata": {
    "execution": {
     "iopub.execute_input": "2023-06-07T01:59:37.846521Z",
     "iopub.status.busy": "2023-06-07T01:59:37.846147Z",
     "iopub.status.idle": "2023-06-07T01:59:38.374064Z",
     "shell.execute_reply": "2023-06-07T01:59:38.372668Z"
    },
    "papermill": {
     "duration": 0.541893,
     "end_time": "2023-06-07T01:59:38.376687",
     "exception": false,
     "start_time": "2023-06-07T01:59:37.834794",
     "status": "completed"
    },
    "tags": []
   },
   "outputs": [
    {
     "data": {
      "text/plain": [
       "Text(0, 0.5, 'Count')"
      ]
     },
     "execution_count": 15,
     "metadata": {},
     "output_type": "execute_result"
    },
    {
     "data": {
      "image/png": "[encoded data removed]",
      "text/plain": [
       "<Figure size 640x480 with 1 Axes>"
      ]
     },
     "metadata": {},
     "output_type": "display_data"
    }
   ],
   "source": [
    "#Bar Graph breakdown of top 100 Universities by Country\n",
    "ax = df['location'].head(100) \\\n",
    ".value_counts() \\\n",
    ".plot(kind='bar', title ='Top 100 Universities by Country')\n",
    "\n",
    "ax.set_ylabel(\"Count\")"
   ]
  },
  {
   "cell_type": "code",
   "execution_count": 16,
   "id": "9de316fc",
   "metadata": {
    "execution": {
     "iopub.execute_input": "2023-06-07T01:59:38.400792Z",
     "iopub.status.busy": "2023-06-07T01:59:38.399686Z",
     "iopub.status.idle": "2023-06-07T01:59:38.566260Z",
     "shell.execute_reply": "2023-06-07T01:59:38.564724Z"
    },
    "papermill": {
     "duration": 0.182782,
     "end_time": "2023-06-07T01:59:38.570411",
     "exception": false,
     "start_time": "2023-06-07T01:59:38.387629",
     "status": "completed"
    },
    "tags": []
   },
   "outputs": [
    {
     "data": {
      "text/plain": [
       "<Axes: title={'center': 'Top 10 Universities by Country'}, ylabel='location'>"
      ]
     },
     "execution_count": 16,
     "metadata": {},
     "output_type": "execute_result"
    },
    {
     "data": {
      "image/png": "[encoded data removed]",
      "text/plain": [
       "<Figure size 640x480 with 1 Axes>"
      ]
     },
     "metadata": {},
     "output_type": "display_data"
    }
   ],
   "source": [
    "#Breakdown of top 10 Universities by Country\n",
    "df['location'].head(10) \\\n",
    ".value_counts() \\\n",
    ".plot(kind='pie', title ='Top 10 Universities by Country')"
   ]
  },
  {
   "cell_type": "code",
   "execution_count": 17,
   "id": "b9441fa3",
   "metadata": {
    "execution": {
     "iopub.execute_input": "2023-06-07T01:59:38.621849Z",
     "iopub.status.busy": "2023-06-07T01:59:38.620172Z",
     "iopub.status.idle": "2023-06-07T01:59:38.791785Z",
     "shell.execute_reply": "2023-06-07T01:59:38.790714Z"
    },
    "papermill": {
     "duration": 0.198992,
     "end_time": "2023-06-07T01:59:38.793301",
     "exception": true,
     "start_time": "2023-06-07T01:59:38.594309",
     "status": "failed"
    },
    "tags": []
   },
   "outputs": [
    {
     "ename": "AttributeError",
     "evalue": "'Series' object has no attribute 'avg'",
     "output_type": "error",
     "traceback": [
      "\u001b[0;31m---------------------------------------------------------------------------\u001b[0m",
      "\u001b[0;31mAttributeError\u001b[0m                            Traceback (most recent call last)",
      "\u001b[0;32m/tmp/ipykernel_20/4109811130.py\u001b[0m in \u001b[0;36m?\u001b[0;34m()\u001b[0m\n\u001b[0;32m----> 1\u001b[0;31m \u001b[0mdfx\u001b[0m \u001b[0;34m=\u001b[0m \u001b[0mpd\u001b[0m\u001b[0;34m.\u001b[0m\u001b[0mqcut\u001b[0m\u001b[0;34m(\u001b[0m\u001b[0mdf\u001b[0m\u001b[0;34m[\u001b[0m\u001b[0;34m'rank_order'\u001b[0m\u001b[0;34m]\u001b[0m\u001b[0;34m.\u001b[0m\u001b[0mhead\u001b[0m\u001b[0;34m(\u001b[0m\u001b[0;36m100\u001b[0m\u001b[0;34m)\u001b[0m\u001b[0;34m,\u001b[0m\u001b[0;36m10\u001b[0m\u001b[0;34m,\u001b[0m\u001b[0;34m)\u001b[0m\u001b[0;34m.\u001b[0m\u001b[0mavg\u001b[0m\u001b[0;34m(\u001b[0m\u001b[0mstudent_body_size\u001b[0m\u001b[0;34m)\u001b[0m\u001b[0;34m.\u001b[0m\u001b[0mvalue_count\u001b[0m\u001b[0;34m(\u001b[0m\u001b[0;34m)\u001b[0m\u001b[0;31m\\\u001b[0m\u001b[0;34m\u001b[0m\u001b[0;34m\u001b[0m\u001b[0m\n\u001b[0m\u001b[1;32m      2\u001b[0m \u001b[0;34m.\u001b[0m\u001b[0mplot\u001b[0m\u001b[0;34m(\u001b[0m\u001b[0mkind\u001b[0m\u001b[0;34m=\u001b[0m\u001b[0;34m'bar'\u001b[0m\u001b[0;34m,\u001b[0m \u001b[0mtitle\u001b[0m \u001b[0;34m=\u001b[0m\u001b[0;34m'Top 10 Universities by Country'\u001b[0m\u001b[0;34m)\u001b[0m\u001b[0;34m\u001b[0m\u001b[0;34m\u001b[0m\u001b[0m\n",
      "\u001b[0;32m/opt/conda/lib/python3.10/site-packages/pandas/core/generic.py\u001b[0m in \u001b[0;36m?\u001b[0;34m(self, name)\u001b[0m\n\u001b[1;32m   5898\u001b[0m             \u001b[0;32mand\u001b[0m \u001b[0mname\u001b[0m \u001b[0;32mnot\u001b[0m \u001b[0;32min\u001b[0m \u001b[0mself\u001b[0m\u001b[0;34m.\u001b[0m\u001b[0m_accessors\u001b[0m\u001b[0;34m\u001b[0m\u001b[0;34m\u001b[0m\u001b[0m\n\u001b[1;32m   5899\u001b[0m             \u001b[0;32mand\u001b[0m \u001b[0mself\u001b[0m\u001b[0;34m.\u001b[0m\u001b[0m_info_axis\u001b[0m\u001b[0;34m.\u001b[0m\u001b[0m_can_hold_identifiers_and_holds_name\u001b[0m\u001b[0;34m(\u001b[0m\u001b[0mname\u001b[0m\u001b[0;34m)\u001b[0m\u001b[0;34m\u001b[0m\u001b[0;34m\u001b[0m\u001b[0m\n\u001b[1;32m   5900\u001b[0m         ):\n\u001b[1;32m   5901\u001b[0m             \u001b[0;32mreturn\u001b[0m \u001b[0mself\u001b[0m\u001b[0;34m[\u001b[0m\u001b[0mname\u001b[0m\u001b[0;34m]\u001b[0m\u001b[0;34m\u001b[0m\u001b[0;34m\u001b[0m\u001b[0m\n\u001b[0;32m-> 5902\u001b[0;31m         \u001b[0;32mreturn\u001b[0m \u001b[0mobject\u001b[0m\u001b[0;34m.\u001b[0m\u001b[0m__getattribute__\u001b[0m\u001b[0;34m(\u001b[0m\u001b[0mself\u001b[0m\u001b[0;34m,\u001b[0m \u001b[0mname\u001b[0m\u001b[0;34m)\u001b[0m\u001b[0;34m\u001b[0m\u001b[0;34m\u001b[0m\u001b[0m\n\u001b[0m",
      "\u001b[0;31mAttributeError\u001b[0m: 'Series' object has no attribute 'avg'"
     ]
    }
   ],
   "source": [
    "dfx = pd.qcut(df['rank_order'].head(100),10,).avg(student_body_size).value_count()\\\n",
    ".plot(kind='bar', title ='Top 10 Universities by Country')"
   ]
  },
  {
   "cell_type": "code",
   "execution_count": null,
   "id": "b03c652a",
   "metadata": {
    "execution": {
     "iopub.execute_input": "2023-06-07T00:38:29.114844Z",
     "iopub.status.busy": "2023-06-07T00:38:29.114261Z",
     "iopub.status.idle": "2023-06-07T00:38:29.484368Z",
     "shell.execute_reply": "2023-06-07T00:38:29.483125Z",
     "shell.execute_reply.started": "2023-06-07T00:38:29.114766Z"
    },
    "papermill": {
     "duration": null,
     "end_time": null,
     "exception": null,
     "start_time": null,
     "status": "pending"
    },
    "tags": []
   },
   "outputs": [],
   "source": [
    "#Histogram breakdown of the Student Body Size of Top 100 Universities\n",
    "df['student_body_size'].head(100).plot(kind='hist', bins=10)\n"
   ]
  },
  {
   "cell_type": "code",
   "execution_count": null,
   "id": "cac9306e",
   "metadata": {
    "execution": {
     "iopub.execute_input": "2023-06-07T00:39:12.802842Z",
     "iopub.status.busy": "2023-06-07T00:39:12.802417Z",
     "iopub.status.idle": "2023-06-07T00:39:12.833181Z",
     "shell.execute_reply": "2023-06-07T00:39:12.832069Z",
     "shell.execute_reply.started": "2023-06-07T00:39:12.802801Z"
    },
    "papermill": {
     "duration": null,
     "end_time": null,
     "exception": null,
     "start_time": null,
     "status": "pending"
    },
    "tags": []
   },
   "outputs": [],
   "source": [
    "#Find the 1 University with a student body size greater than 70,000 in the top 100 univeristies\n",
    "df_100 = df.head(100)\n",
    "df_100[df_100['student_body_size'] > 70000]"
   ]
  },
  {
   "cell_type": "code",
   "execution_count": null,
   "id": "442ee528",
   "metadata": {
    "execution": {
     "iopub.execute_input": "2023-06-07T00:39:20.160832Z",
     "iopub.status.busy": "2023-06-07T00:39:20.160428Z",
     "iopub.status.idle": "2023-06-07T00:39:20.545029Z",
     "shell.execute_reply": "2023-06-07T00:39:20.543831Z",
     "shell.execute_reply.started": "2023-06-07T00:39:20.160794Z"
    },
    "papermill": {
     "duration": null,
     "end_time": null,
     "exception": null,
     "start_time": null,
     "status": "pending"
    },
    "tags": []
   },
   "outputs": [],
   "source": [
    "#Looking at the Student Body Size of the deciles of top 100 ranked Universities\n",
    "df_top_100 = df.head(100)\n",
    "df_top_100['decile'] = pd.qcut(df_top_100['rank_order'], 10, labels=False)\n",
    "df_top_100.head(10)\n",
    "average_sizes = df_top_100.groupby('decile')['student_body_size'].mean() \\\n",
    ".plot(kind='bar', title ='Top University Deciles by Student Body Size')"
   ]
  },
  {
   "cell_type": "code",
   "execution_count": null,
   "id": "0d38eaec",
   "metadata": {
    "execution": {
     "iopub.execute_input": "2023-06-07T00:51:41.486351Z",
     "iopub.status.busy": "2023-06-07T00:51:41.485960Z",
     "iopub.status.idle": "2023-06-07T00:51:41.820986Z",
     "shell.execute_reply": "2023-06-07T00:51:41.819610Z",
     "shell.execute_reply.started": "2023-06-07T00:51:41.486321Z"
    },
    "papermill": {
     "duration": null,
     "end_time": null,
     "exception": null,
     "start_time": null,
     "status": "pending"
    },
    "tags": []
   },
   "outputs": [],
   "source": [
    "#Looking at the Student Body Size of the deciles of top 2000 ranked Universities\n",
    "df_top_100 = df.head(2000)\n",
    "df_top_100['decile'] = pd.qcut(df_top_100['rank_order'], 10, labels=False)\n",
    "df_top_100.head(10)\n",
    "average_sizes = df_top_100.groupby('decile')['student_body_size'].mean() \\\n",
    ".plot(kind='bar', title ='Top University Deciles by Student Body Size')\n",
    "plt.show()"
   ]
  },
  {
   "cell_type": "code",
   "execution_count": null,
   "id": "a30eaacc",
   "metadata": {
    "execution": {
     "iopub.execute_input": "2023-06-07T00:51:32.774544Z",
     "iopub.status.busy": "2023-06-07T00:51:32.774091Z",
     "iopub.status.idle": "2023-06-07T00:51:33.063046Z",
     "shell.execute_reply": "2023-06-07T00:51:33.061859Z",
     "shell.execute_reply.started": "2023-06-07T00:51:32.774509Z"
    },
    "papermill": {
     "duration": null,
     "end_time": null,
     "exception": null,
     "start_time": null,
     "status": "pending"
    },
    "tags": []
   },
   "outputs": [],
   "source": [
    "# Scatter plot of Top 100 Universities by their student to staff ratio\n",
    "df.head(100).plot(kind='scatter',\n",
    "       x='rank_order',\n",
    "       y='stats_student_staff_ratio')\n",
    "plt.show()"
   ]
  },
  {
   "cell_type": "code",
   "execution_count": null,
   "id": "c7bbda96",
   "metadata": {
    "execution": {
     "iopub.execute_input": "2023-06-07T00:51:49.289869Z",
     "iopub.status.busy": "2023-06-07T00:51:49.289405Z",
     "iopub.status.idle": "2023-06-07T00:51:49.599963Z",
     "shell.execute_reply": "2023-06-07T00:51:49.598805Z",
     "shell.execute_reply.started": "2023-06-07T00:51:49.289833Z"
    },
    "papermill": {
     "duration": null,
     "end_time": null,
     "exception": null,
     "start_time": null,
     "status": "pending"
    },
    "tags": []
   },
   "outputs": [],
   "source": [
    "# Scatter plot of student body size of Top 100 Universities\n",
    "df.head(100).plot(kind='scatter',\n",
    "       x='rank_order',\n",
    "       y='student_body_size')\n",
    "plt.show()"
   ]
  },
  {
   "cell_type": "code",
   "execution_count": null,
   "id": "8e1be32c",
   "metadata": {
    "execution": {
     "iopub.execute_input": "2023-06-07T01:09:06.923768Z",
     "iopub.status.busy": "2023-06-07T01:09:06.923385Z",
     "iopub.status.idle": "2023-06-07T01:09:07.550492Z",
     "shell.execute_reply": "2023-06-07T01:09:07.549133Z",
     "shell.execute_reply.started": "2023-06-07T01:09:06.923740Z"
    },
    "papermill": {
     "duration": null,
     "end_time": null,
     "exception": null,
     "start_time": null,
     "status": "pending"
    },
    "tags": []
   },
   "outputs": [],
   "source": [
    "    sns.scatterplot(\n",
    "         x='rank_order',\n",
    "         y='student_body_size',\n",
    "         hue='location',\n",
    "         data=df.head(20)\n",
    ")"
   ]
  }
 ],
 "metadata": {
  "kernelspec": {
   "display_name": "Python 3",
   "language": "python",
   "name": "python3"
  },
  "language_info": {
   "codemirror_mode": {
    "name": "ipython",
    "version": 3
   },
   "file_extension": ".py",
   "mimetype": "text/x-python",
   "name": "python",
   "nbconvert_exporter": "python",
   "pygments_lexer": "ipython3",
   "version": "3.10.10"
  },
  "papermill": {
   "default_parameters": {},
   "duration": 16.163309,
   "end_time": "2023-06-07T01:59:39.727294",
   "environment_variables": {},
   "exception": true,
   "input_path": "__notebook__.ipynb",
   "output_path": "__notebook__.ipynb",
   "parameters": {},
   "start_time": "2023-06-07T01:59:23.563985",
   "version": "2.4.0"
  }
 },
 "nbformat": 4,
 "nbformat_minor": 5
}
